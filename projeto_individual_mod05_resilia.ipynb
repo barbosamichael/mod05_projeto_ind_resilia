{
 "cells": [
  {
   "cell_type": "markdown",
   "id": "c2d23f10",
   "metadata": {},
   "source": [
    "# *** Pessoas deixando a empresa ***"
   ]
  },
  {
   "cell_type": "markdown",
   "id": "807a95cd",
   "metadata": {},
   "source": [
    "Observação: HRPB é uma variável de interesse que no texto descritivo é referenciado como área ou empresa de interesse para fins didáticos."
   ]
  },
  {
   "cell_type": "markdown",
   "id": "898e84fb",
   "metadata": {},
   "source": [
    "Após se familiarizar com o gráfico e os dados que ele mostra, conclua as etapas a seguir:\n",
    "Você deve carregar os dados para o Tableau e responder às seguintes questões:\n",
    "\n",
    "\n",
    "\n"
   ]
  },
  {
   "cell_type": "markdown",
   "id": "01132574",
   "metadata": {},
   "source": [
    "### Histograma dos dados disponibilizados"
   ]
  },
  {
   "cell_type": "markdown",
   "id": "80ba0c4f",
   "metadata": {},
   "source": [
    "<br>\n",
    "<img src='hist01.png'>\n",
    "<br>"
   ]
  },
  {
   "cell_type": "markdown",
   "id": "c43d0199",
   "metadata": {},
   "source": [
    "1. O que está sendo mostrado aqui? Escreva um texto explicando os dados."
   ]
  },
  {
   "cell_type": "markdown",
   "id": "6348ec23",
   "metadata": {},
   "source": [
    "####  1.1) Os dados trazem informações que tentam elucidar os motivos que possam levar a um maior entendimento da rotatividade (turn over) de funcionários da área de markenting e quais fatores podem ter mais impacto.\n",
    "\n",
    "#### 1.2) Campos que fazem parte desta análise são:\n",
    "        * Treinamento       \n",
    "        * Conflito com outros\n",
    "        * Falta de reconhecimento\n",
    "        * Carga Horária\n",
    "        * Progressão na carreira\n",
    "        * Remuneração\n",
    "        * Tipo de trabalho\n",
    "        * Mudança na carreira\n",
    "        * Trajeto\n",
    "        * Realocação\n",
    "        * Doença\n",
    "\n",
    "#### 1.3) Neste primeiro momento podemos destacar  Progressão na carreira, Realocação e Tipo de trabalho como fatores que causa maior impacto na taxa de turn over."
   ]
  },
  {
   "cell_type": "markdown",
   "id": "ca55a5ad",
   "metadata": {},
   "source": [
    "2. Que observações você pode fazer a partir desses dados? Coloque duas\n",
    "conclusões específicas em palavras. Escreva sentenças completas."
   ]
  },
  {
   "cell_type": "markdown",
   "id": "dfb36e49",
   "metadata": {},
   "source": [
    "#### 2.1) Podemos destacar a variável Capacidade de Impactar: * Em que Conflito com Outros tem pontuação de 10 e Treinamento 11, mas estes fatores ainda que relevante num contexto geral não é o principal causador de turn over quando comparado com a variável de interesse HRPB (empresa analisada que foi quantificada).\n",
    "\n",
    "#### 2.2) Sendo assim, é possível ter uma comparação do que causa a saída de funcionários num contexto amplo e de forma comparativa.Podendo ter uma âncora de comparação ao entender quais fatores são mais específico da empresa HRPB (e/ou área em questão analisada). Destaca-se para HRPB variáveis com maior signifcado Progressão na Carreira, Realocação e Tipo de Trabalho."
   ]
  },
  {
   "cell_type": "markdown",
   "id": "8ba5ab81",
   "metadata": {},
   "source": [
    "3. O que não é ideal ou poderia ser evitado na visualização em sua forma atual? Que perguntas você faria ou que feedback daria para quem fez o gráfico?"
   ]
  },
  {
   "cell_type": "markdown",
   "id": "d0efde45",
   "metadata": {},
   "source": [
    "<br>\n",
    "<img src = 'reasons_leaving.png' >\n",
    "<br>"
   ]
  },
  {
   "cell_type": "markdown",
   "id": "35db8247",
   "metadata": {},
   "source": [
    "#### 3.1) O gráfico apresentado em forma de matriz, com dispersão, valores dentro da bolha é a visualização mais adequado e porque?\n",
    "\n",
    "#### 3.2) Os valores dentro das bolhas sem um parâmetro de máximo e mínimo deixa a informação pouco clara. Por este motivo acredito que não é a melhor opção para trazer ajuda e elucidar qualquer conclusão de forma rápida. Entende-se por rápido conclusões possíveis / plausíveis que levem menos de 1min e 30s."
   ]
  },
  {
   "cell_type": "markdown",
   "id": "b0e69d4a",
   "metadata": {},
   "source": [
    "\n",
    "4. Crie três maneiras diferentes de mostrar esses dados e liste quais são algumas\n",
    "vantagens e insuficiências de cada uma."
   ]
  },
  {
   "cell_type": "markdown",
   "id": "e0484bd1",
   "metadata": {},
   "source": [
    "#### 4.1) Gráfico de bolhas\n",
    "   - É confuso e pouco conclusivo.\n",
    "    \n",
    "<br>\n",
    "<img src = 'bolha02.png' >\n",
    "<br>\n"
   ]
  },
  {
   "cell_type": "markdown",
   "id": "44bb352d",
   "metadata": {},
   "source": [
    "#### 4.2) Boxplot\n",
    "   - Também é pouco conclusivo e difícil de depreender qualquer informação de forma rápida.\n",
    "    \n",
    "<br>\n",
    "<img src = 'boxplot01.png' >\n",
    "<br>"
   ]
  },
  {
   "cell_type": "markdown",
   "id": "fa3a3992",
   "metadata": {},
   "source": [
    "#### 4.3) Tabela\n",
    "   - Difícil de relacionar as variáveis dado que temos mais que 3 relacionamentos ( linhas de análise).\n",
    "    \n",
    "<br>\n",
    "<img src = 'tabela01.png' >\n",
    "<br>"
   ]
  },
  {
   "cell_type": "markdown",
   "id": "063e02a1",
   "metadata": {},
   "source": [
    "\n",
    "5. Qual visualização representa melhor os dados e por quê?"
   ]
  },
  {
   "cell_type": "markdown",
   "id": "61fccb2d",
   "metadata": {},
   "source": [
    "#### 5.1) O gráfico de histograma é o que pode trazer, neste caso, informações de forma mais concisa; o que permite uma comparação rápida entre as variáveis de interesse ( Capacidade de impactar,Hrbp e Pesquisa de saída) e os demais fatores que impactam no valor destas 3 variantes."
   ]
  },
  {
   "cell_type": "markdown",
   "id": "95c16895",
   "metadata": {},
   "source": [
    "\n",
    "6. Como você pode gerar essas informações em uma história orientada por dados\n",
    "para seu chefe? O objetivo é pensar além de mostrar simplesmente dados e mostrar\n",
    "o contexto da história."
   ]
  },
  {
   "cell_type": "code",
   "execution_count": null,
   "id": "6b80832d",
   "metadata": {},
   "outputs": [],
   "source": []
  },
  {
   "cell_type": "code",
   "execution_count": null,
   "id": "9ef251f9",
   "metadata": {},
   "outputs": [],
   "source": []
  },
  {
   "cell_type": "code",
   "execution_count": null,
   "id": "621e8827",
   "metadata": {},
   "outputs": [],
   "source": []
  },
  {
   "cell_type": "code",
   "execution_count": null,
   "id": "f7e3b962",
   "metadata": {},
   "outputs": [],
   "source": []
  },
  {
   "cell_type": "code",
   "execution_count": null,
   "id": "cdd45094",
   "metadata": {},
   "outputs": [],
   "source": []
  }
 ],
 "metadata": {
  "kernelspec": {
   "display_name": "Python 3 (ipykernel)",
   "language": "python",
   "name": "python3"
  },
  "language_info": {
   "codemirror_mode": {
    "name": "ipython",
    "version": 3
   },
   "file_extension": ".py",
   "mimetype": "text/x-python",
   "name": "python",
   "nbconvert_exporter": "python",
   "pygments_lexer": "ipython3",
   "version": "3.9.12"
  }
 },
 "nbformat": 4,
 "nbformat_minor": 5
}
